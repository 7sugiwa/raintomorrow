{
 "cells": [
  {
   "cell_type": "markdown",
   "metadata": {},
   "source": [
    "# Importing Libraries"
   ]
  },
  {
   "cell_type": "code",
   "execution_count": 6,
   "metadata": {},
   "outputs": [],
   "source": [
    "import pickle\n",
    "import pandas as pd\n",
    "import numpy as np"
   ]
  },
  {
   "cell_type": "markdown",
   "metadata": {},
   "source": [
    "# Loading the Mock Data"
   ]
  },
  {
   "cell_type": "code",
   "execution_count": 7,
   "metadata": {},
   "outputs": [
    {
     "data": {
      "text/html": [
       "<div>\n",
       "<style scoped>\n",
       "    .dataframe tbody tr th:only-of-type {\n",
       "        vertical-align: middle;\n",
       "    }\n",
       "\n",
       "    .dataframe tbody tr th {\n",
       "        vertical-align: top;\n",
       "    }\n",
       "\n",
       "    .dataframe thead th {\n",
       "        text-align: right;\n",
       "    }\n",
       "</style>\n",
       "<table border=\"1\" class=\"dataframe\">\n",
       "  <thead>\n",
       "    <tr style=\"text-align: right;\">\n",
       "      <th></th>\n",
       "      <th>Humidity3pm</th>\n",
       "      <th>Rainfall</th>\n",
       "      <th>RainToday</th>\n",
       "      <th>TempRange</th>\n",
       "      <th>WindGustSpeed</th>\n",
       "      <th>Pressure9am</th>\n",
       "      <th>AvgPressure</th>\n",
       "      <th>HumidityChange</th>\n",
       "      <th>AvgHumidity</th>\n",
       "    </tr>\n",
       "  </thead>\n",
       "  <tbody>\n",
       "    <tr>\n",
       "      <th>0</th>\n",
       "      <td>7.0</td>\n",
       "      <td>8.881264</td>\n",
       "      <td>True</td>\n",
       "      <td>33.3</td>\n",
       "      <td>6.7</td>\n",
       "      <td>1016.1</td>\n",
       "      <td>1061.69</td>\n",
       "      <td>5.6</td>\n",
       "      <td>86.0</td>\n",
       "    </tr>\n",
       "    <tr>\n",
       "      <th>1</th>\n",
       "      <td>75.3</td>\n",
       "      <td>5.494357</td>\n",
       "      <td>False</td>\n",
       "      <td>21.4</td>\n",
       "      <td>77.2</td>\n",
       "      <td>908.7</td>\n",
       "      <td>964.98</td>\n",
       "      <td>-76.2</td>\n",
       "      <td>56.1</td>\n",
       "    </tr>\n",
       "    <tr>\n",
       "      <th>2</th>\n",
       "      <td>34.6</td>\n",
       "      <td>5.268111</td>\n",
       "      <td>False</td>\n",
       "      <td>7.0</td>\n",
       "      <td>65.3</td>\n",
       "      <td>1083.9</td>\n",
       "      <td>955.31</td>\n",
       "      <td>-9.9</td>\n",
       "      <td>80.3</td>\n",
       "    </tr>\n",
       "    <tr>\n",
       "      <th>3</th>\n",
       "      <td>41.5</td>\n",
       "      <td>1.789634</td>\n",
       "      <td>True</td>\n",
       "      <td>3.1</td>\n",
       "      <td>104.8</td>\n",
       "      <td>1006.2</td>\n",
       "      <td>992.38</td>\n",
       "      <td>77.7</td>\n",
       "      <td>53.0</td>\n",
       "    </tr>\n",
       "    <tr>\n",
       "      <th>4</th>\n",
       "      <td>56.3</td>\n",
       "      <td>6.410819</td>\n",
       "      <td>True</td>\n",
       "      <td>11.3</td>\n",
       "      <td>188.9</td>\n",
       "      <td>983.9</td>\n",
       "      <td>946.40</td>\n",
       "      <td>-21.5</td>\n",
       "      <td>47.7</td>\n",
       "    </tr>\n",
       "    <tr>\n",
       "      <th>5</th>\n",
       "      <td>56.1</td>\n",
       "      <td>1.731959</td>\n",
       "      <td>True</td>\n",
       "      <td>36.9</td>\n",
       "      <td>124.5</td>\n",
       "      <td>985.4</td>\n",
       "      <td>1023.90</td>\n",
       "      <td>35.8</td>\n",
       "      <td>6.4</td>\n",
       "    </tr>\n",
       "    <tr>\n",
       "      <th>6</th>\n",
       "      <td>58.1</td>\n",
       "      <td>7.480919</td>\n",
       "      <td>True</td>\n",
       "      <td>12.6</td>\n",
       "      <td>116.9</td>\n",
       "      <td>1014.9</td>\n",
       "      <td>984.79</td>\n",
       "      <td>-44.2</td>\n",
       "      <td>86.0</td>\n",
       "    </tr>\n",
       "    <tr>\n",
       "      <th>7</th>\n",
       "      <td>82.2</td>\n",
       "      <td>7.896780</td>\n",
       "      <td>False</td>\n",
       "      <td>22.2</td>\n",
       "      <td>151.8</td>\n",
       "      <td>1014.4</td>\n",
       "      <td>929.02</td>\n",
       "      <td>-53.6</td>\n",
       "      <td>11.8</td>\n",
       "    </tr>\n",
       "    <tr>\n",
       "      <th>8</th>\n",
       "      <td>22.0</td>\n",
       "      <td>3.976068</td>\n",
       "      <td>False</td>\n",
       "      <td>28.6</td>\n",
       "      <td>172.2</td>\n",
       "      <td>960.4</td>\n",
       "      <td>918.53</td>\n",
       "      <td>-37.6</td>\n",
       "      <td>8.7</td>\n",
       "    </tr>\n",
       "    <tr>\n",
       "      <th>9</th>\n",
       "      <td>70.3</td>\n",
       "      <td>1.053951</td>\n",
       "      <td>True</td>\n",
       "      <td>20.2</td>\n",
       "      <td>86.5</td>\n",
       "      <td>947.8</td>\n",
       "      <td>962.50</td>\n",
       "      <td>-60.4</td>\n",
       "      <td>30.8</td>\n",
       "    </tr>\n",
       "  </tbody>\n",
       "</table>\n",
       "</div>"
      ],
      "text/plain": [
       "   Humidity3pm  Rainfall  RainToday  TempRange  WindGustSpeed  Pressure9am  \\\n",
       "0          7.0  8.881264       True       33.3            6.7       1016.1   \n",
       "1         75.3  5.494357      False       21.4           77.2        908.7   \n",
       "2         34.6  5.268111      False        7.0           65.3       1083.9   \n",
       "3         41.5  1.789634       True        3.1          104.8       1006.2   \n",
       "4         56.3  6.410819       True       11.3          188.9        983.9   \n",
       "5         56.1  1.731959       True       36.9          124.5        985.4   \n",
       "6         58.1  7.480919       True       12.6          116.9       1014.9   \n",
       "7         82.2  7.896780      False       22.2          151.8       1014.4   \n",
       "8         22.0  3.976068      False       28.6          172.2        960.4   \n",
       "9         70.3  1.053951       True       20.2           86.5        947.8   \n",
       "\n",
       "   AvgPressure  HumidityChange  AvgHumidity  \n",
       "0      1061.69             5.6         86.0  \n",
       "1       964.98           -76.2         56.1  \n",
       "2       955.31            -9.9         80.3  \n",
       "3       992.38            77.7         53.0  \n",
       "4       946.40           -21.5         47.7  \n",
       "5      1023.90            35.8          6.4  \n",
       "6       984.79           -44.2         86.0  \n",
       "7       929.02           -53.6         11.8  \n",
       "8       918.53           -37.6          8.7  \n",
       "9       962.50           -60.4         30.8  "
      ]
     },
     "execution_count": 7,
     "metadata": {},
     "output_type": "execute_result"
    }
   ],
   "source": [
    "# load the dataset\n",
    "df = pd.read_csv('MOCK_DATA.csv')\n",
    "\n",
    "# display the first few rows of the dataframe\n",
    "df.head(10)"
   ]
  },
  {
   "cell_type": "markdown",
   "metadata": {},
   "source": [
    "# Loading the Models"
   ]
  },
  {
   "cell_type": "code",
   "execution_count": 8,
   "metadata": {},
   "outputs": [],
   "source": [
    "# Load the saved model\n",
    "with open('xgboost_optimized_model.pkl', 'rb') as file:\n",
    "    loaded_model = pickle.load(file)\n",
    "\n",
    "# Load the saved pipeline\n",
    "with open('pipeline.pkl', 'rb') as file:\n",
    "    loaded_pipeline = pickle.load(file)\n",
    "\n",
    "# Load the saved label encoder\n",
    "with open('lerain.pkl', 'rb') as file:\n",
    "    loaded_le = pickle.load(file)"
   ]
  },
  {
   "cell_type": "markdown",
   "metadata": {},
   "source": [
    "# Preparing data"
   ]
  },
  {
   "cell_type": "code",
   "execution_count": 9,
   "metadata": {},
   "outputs": [],
   "source": [
    "# Log transforn on Rainfall\n",
    "df['Rainfall_log'] = np.log(df['Rainfall'] + 1)  # Adding 1 to avoid log(0)\n",
    "df.drop('Rainfall', axis=1, inplace=True)\n",
    "\n",
    "# Encoding Rain Today\n",
    "df['RainToday'] = loaded_le.fit_transform(df['RainToday'])"
   ]
  },
  {
   "cell_type": "code",
   "execution_count": 10,
   "metadata": {},
   "outputs": [],
   "source": [
    "# Reordering Features\n",
    "df = df[['Humidity3pm', 'Rainfall_log', 'RainToday', 'TempRange', 'WindGustSpeed', 'Pressure9am', 'AvgPressure', 'HumidityChange', 'AvgHumidity']]"
   ]
  },
  {
   "cell_type": "markdown",
   "metadata": {},
   "source": [
    "# Model Inference"
   ]
  },
  {
   "cell_type": "code",
   "execution_count": 12,
   "metadata": {},
   "outputs": [
    {
     "data": {
      "text/plain": [
       "array([0, 1, 1, 1, 0, 1, 0, 1, 1, 0, 1, 0, 0, 1, 1, 1, 1, 1, 1, 1, 1, 1,\n",
       "       0, 1, 0, 1, 1, 1, 1, 1, 1, 1, 1, 1, 1, 1, 1, 1, 0, 0, 0, 1, 1, 1,\n",
       "       1, 0, 1, 0, 0, 1, 0, 0, 0, 1, 0, 1, 0, 1, 0, 1, 0, 1, 1, 0, 1, 1,\n",
       "       0, 1, 1, 1, 0, 1, 1, 1, 0, 0, 0, 1, 1, 1, 1, 1, 1, 1, 1, 1, 1, 1,\n",
       "       0, 1, 0, 1, 0, 0, 1, 1, 0, 1, 1, 1])"
      ]
     },
     "execution_count": 12,
     "metadata": {},
     "output_type": "execute_result"
    }
   ],
   "source": [
    "# Applying the pipeline transformations\n",
    "transformed_data = loaded_pipeline.transform(df)\n",
    "\n",
    "# Making predictions\n",
    "predictions = loaded_model.predict(transformed_data)\n",
    "\n",
    "# Output the predictions\n",
    "predictions"
   ]
  },
  {
   "cell_type": "code",
   "execution_count": null,
   "metadata": {},
   "outputs": [],
   "source": []
  }
 ],
 "metadata": {
  "kernelspec": {
   "display_name": "Python 3",
   "language": "python",
   "name": "python3"
  },
  "language_info": {
   "codemirror_mode": {
    "name": "ipython",
    "version": 3
   },
   "file_extension": ".py",
   "mimetype": "text/x-python",
   "name": "python",
   "nbconvert_exporter": "python",
   "pygments_lexer": "ipython3",
   "version": "3.11.3"
  }
 },
 "nbformat": 4,
 "nbformat_minor": 2
}
